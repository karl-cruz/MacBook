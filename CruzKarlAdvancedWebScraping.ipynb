{
 "cells": [
  {
   "cell_type": "code",
   "execution_count": 1,
   "metadata": {},
   "outputs": [],
   "source": [
    "# import libraries\n",
    "import re\n",
    "import urllib3      \n",
    "\n",
    "# URL of the metacritic page I used\n",
    "url = 'https://www.metacritic.com/browse/movies/score/metascore/year/filtered?year_selected=2017&sort=desc&view=detailed'\n",
    "\n",
    "# Title (regular expresion provided by Professor Spence)\n",
    "title = r'class=\"title\"><h3>(.*)<\\/h3><\\/a>\\s*'\n",
    "# Release Date\n",
    "release = r'<span>(.*)2017<\\/span>\\s*'\n",
    "# Summary\n",
    "summary = r'<div class=\"summary\">\\s*(.*)\\s*'\n",
    "# Score\n",
    "score = r'<div class=\"metascore_w large movie positive\">(.*)<\\/div>\\s*<\\/a>\\s*<\\/div>\\s*<div class'\n",
    "# Thumbnail\n",
    "thumbnail = r'<a href=\"\\/movie\\/.*<img src=\"(.*)\" alt=\".*'\n"
   ]
  },
  {
   "attachments": {},
   "cell_type": "markdown",
   "metadata": {},
   "source": [
    "created variables for each parameter I need for this assignment. Title, Release, Summary, Score (metascore), and Thumbnail. \n",
    "\n",
    "a variable for the URL I used fr this assignment."
   ]
  },
  {
   "cell_type": "code",
   "execution_count": null,
   "metadata": {},
   "outputs": [],
   "source": [
    "# import library\n",
    "import certifi\n",
    "\n",
    "# I learned that PoolManagers \"manages all the connections that you have made and prepares them for use by your threads. it will open and close connections as needed.\" \n",
    "http = urllib3.PoolManager(ca_certs=certifi.where())\n",
    "\n",
    "response = http.request('GET', url, headers={'User-Agent': 'Mozilla/5.0'})\n",
    "\n",
    "datastring = str(response.data, \"utf-8\")\n",
    "print(response)\n",
    "\n",
    "print(datastring)\n"
   ]
  },
  {
   "attachments": {},
   "cell_type": "markdown",
   "metadata": {},
   "source": [
    "Professor Spence helped me with this portion of code. "
   ]
  },
  {
   "cell_type": "code",
   "execution_count": 3,
   "metadata": {},
   "outputs": [
    {
     "name": "stdout",
     "output_type": "stream",
     "text": [
      "Retrieved 100 movie titles\n"
     ]
    }
   ],
   "source": [
    "title_results = re.findall(title, datastring)\n",
    "print(f\"Retrieved {len(title_results)} movie titles\")"
   ]
  },
  {
   "attachments": {},
   "cell_type": "markdown",
   "metadata": {},
   "source": [
    "title_results uses the 'title' regular expression and connects to 'datastring' which has the url where the title data is found"
   ]
  },
  {
   "cell_type": "code",
   "execution_count": 4,
   "metadata": {},
   "outputs": [
    {
     "name": "stdout",
     "output_type": "stream",
     "text": [
      "Retrieved 100 movie release dates\n"
     ]
    }
   ],
   "source": [
    "release_results = re.findall(release, datastring)\n",
    "print(f\"Retrieved {len(release_results)} movie release dates\")"
   ]
  },
  {
   "attachments": {},
   "cell_type": "markdown",
   "metadata": {},
   "source": [
    "release_results uses the 'release' regular expression and connects to 'datastring' which has the url where the release date data is found."
   ]
  },
  {
   "cell_type": "code",
   "execution_count": 5,
   "metadata": {},
   "outputs": [
    {
     "name": "stdout",
     "output_type": "stream",
     "text": [
      "Retrieved 100 movie summaries\n"
     ]
    }
   ],
   "source": [
    "summary_results = re.findall(summary, datastring)\n",
    "print(f\"Retrieved {len(summary_results)} movie summaries\")"
   ]
  },
  {
   "attachments": {},
   "cell_type": "markdown",
   "metadata": {},
   "source": [
    "summary_results uses the 'summary' regular expression and connects to 'datastring' which has the url where the summary data is found."
   ]
  },
  {
   "cell_type": "code",
   "execution_count": 6,
   "metadata": {},
   "outputs": [
    {
     "name": "stdout",
     "output_type": "stream",
     "text": [
      "Retrieved 100 movie scores\n"
     ]
    }
   ],
   "source": [
    "score_results = re.findall(score, datastring)\n",
    "print(f\"Retrieved {len(score_results)} movie scores\")"
   ]
  },
  {
   "attachments": {},
   "cell_type": "markdown",
   "metadata": {},
   "source": [
    "score_results uses the 'score' regular expression and connects to 'datastring' which has the url where the metascore data is found."
   ]
  },
  {
   "cell_type": "code",
   "execution_count": 7,
   "metadata": {},
   "outputs": [
    {
     "name": "stdout",
     "output_type": "stream",
     "text": [
      "Retrieved 100 movie thumbnails\n"
     ]
    }
   ],
   "source": [
    "thumbnail_results = re.findall(thumbnail, datastring)\n",
    "print(f\"Retrieved {len(thumbnail_results)} movie thumbnails\")"
   ]
  },
  {
   "attachments": {},
   "cell_type": "markdown",
   "metadata": {},
   "source": [
    "thumbnail_results uses the 'thumbnail' regular expression and connects to 'datastring' which has the url where the thumbnail data is found."
   ]
  },
  {
   "cell_type": "code",
   "execution_count": null,
   "metadata": {},
   "outputs": [],
   "source": [
    "from prettytable import PrettyTable\n",
    "\n",
    "# Calling table and\n",
    "table = PrettyTable()\n",
    "\n",
    "# Add columns to table\n",
    "table.add_column(\"Title\", title_results, align='l')\n",
    "table.add_column(\"Release Date\", release_results, align='l')\n",
    "table.add_column(\"Summary\", summary_results, align='l')\n",
    "table.add_column(\"Metascore\", score_results, align='l')\n",
    "table.add_column(\"Thumbnail\", thumbnail_results, align='l')\n",
    "\n",
    "# Print table\n",
    "print(table)"
   ]
  },
  {
   "attachments": {},
   "cell_type": "markdown",
   "metadata": {},
   "source": [
    "Michael Etelamaki posted some great code that I used in the code above to create my table.\n",
    "\n",
    "I had asked for some guidance as to why one of the rows were misaligned but I was not able to find a solution for it.\n",
    "\n",
    "each table.add_column(column, data, alignment) is connected to each parameter required for this assignment. I included five columns, Title, Release Date, Summary, Metascore, Thumbnail.\n",
    "\n",
    "I definitely spent more than 4 hours on this assignment. I think the reason is due to my lack of knowledge with python. This is a note for myself that I need to work on python more often.\n",
    "\n",
    "END OF ASSIGNMENT\n",
    "\n",
    "Bottom portion is to practice making lists using pandas."
   ]
  },
  {
   "cell_type": "code",
   "execution_count": null,
   "metadata": {},
   "outputs": [
    {
     "name": "stdout",
     "output_type": "stream",
     "text": [
      "                                               Title   \n",
      "0  [Dunkirk, Faces Places, Call Me by Your Name, ...  \\\n",
      "\n",
      "                                        Release Date   \n",
      "0  [July 21, , October 6, , November 24, , Novemb...  \\\n",
      "\n",
      "                                             Summary   \n",
      "0  [Dunkirk opens as hundreds of thousands of Bri...  \\\n",
      "\n",
      "                                           Metascore   \n",
      "0  [(\"metascore_w large movie positive\", 94, \"tit...  \\\n",
      "\n",
      "                                           Thumbnail  \n",
      "0  [(\"clamp-image-wrap\", \"/movie/dunkirk\"><img sr...  \n"
     ]
    }
   ],
   "source": [
    "import pandas as pd\n",
    "from tabulate import tabulate\n",
    "\n",
    "data = {\n",
    "    'Title': [title_results], \n",
    "    'Release Date': [release_results],\n",
    "    'Summary': [summary_results],\n",
    "    'Metascore': [score_results],\n",
    "    'Thumbnail': [thumbnail_results]\n",
    "}\n",
    "\n",
    "df = pd.DataFrame(data)\n",
    "\n",
    "print(df)"
   ]
  },
  {
   "cell_type": "code",
   "execution_count": null,
   "metadata": {},
   "outputs": [
    {
     "name": "stdout",
     "output_type": "stream",
     "text": [
      "+----+--------------------------+----------------+------------------------------------------------------------------------------------------------------------------------+-------------+---------------------------------------+\n",
      "|    | Title                    |   Release Date | Summary                                                                                                                |   Metascore | Thumbnail                             |\n",
      "|----+--------------------------+----------------+------------------------------------------------------------------------------------------------------------------------+-------------+---------------------------------------|\n",
      "|  0 | The Shawshank Redemption |           1994 | Two imprisoned men bond over a number of years, finding solace and eventual redemption through acts of common decency. |          80 | https://www.example.com/thumbnail.jpg |\n",
      "+----+--------------------------+----------------+------------------------------------------------------------------------------------------------------------------------+-------------+---------------------------------------+\n"
     ]
    }
   ],
   "source": [
    "import pandas as pd\n",
    "from tabulate import tabulate\n",
    "\n",
    "data = {\n",
    "    'Title': ['The Shawshank Redemption'], \n",
    "    'Release Date': ['1994'],\n",
    "    'Summary': ['Two imprisoned men bond over a number of years, finding solace and eventual redemption through acts of common decency.'],\n",
    "    'Metascore': [80],\n",
    "    'Thumbnail': ['https://www.example.com/thumbnail.jpg']\n",
    "}\n",
    "\n",
    "df = pd.DataFrame(data)\n",
    "\n",
    "print(tabulate(df, headers='keys', tablefmt='psql'))\n"
   ]
  },
  {
   "attachments": {},
   "cell_type": "markdown",
   "metadata": {},
   "source": [
    "experimenting with pandas because I never really grasped the concept"
   ]
  }
 ],
 "metadata": {
  "kernelspec": {
   "display_name": "Python 3",
   "language": "python",
   "name": "python3"
  },
  "language_info": {
   "codemirror_mode": {
    "name": "ipython",
    "version": 3
   },
   "file_extension": ".py",
   "mimetype": "text/x-python",
   "name": "python",
   "nbconvert_exporter": "python",
   "pygments_lexer": "ipython3",
   "version": "3.11.3"
  },
  "orig_nbformat": 4
 },
 "nbformat": 4,
 "nbformat_minor": 2
}
